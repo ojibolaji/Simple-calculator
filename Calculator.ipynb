{
 "cells": [
  {
   "cell_type": "markdown",
   "id": "df5dd358",
   "metadata": {},
   "source": [
    "# Simple Calculator"
   ]
  },
  {
   "cell_type": "markdown",
   "id": "9eee0da9",
   "metadata": {},
   "source": [
    "Creat a calculator that takes  in two numbers entered by  auser  and performs any of the following> (i) addition            (ii) subtraction (iii) multiplication (iv)division"
   ]
  },
  {
   "cell_type": "code",
   "execution_count": 4,
   "id": "10b87b2a",
   "metadata": {},
   "outputs": [
    {
     "name": "stdout",
     "output_type": "stream",
     "text": [
      "Enter number20\n",
      "Enter number10\n",
      "Enter 1 to add \n",
      " Enter 2 to subtract \n",
      "Enter 3 multiply \n",
      "Enter 4 to divide \n",
      "-->1\n",
      "30\n"
     ]
    }
   ],
   "source": [
    "num1 = int(input('Enter number'))\n",
    "num2 = int(input('Enter number'))\n",
    "\n",
    "req = input('Enter 1 to add \\n Enter 2 to subtract \\nEnter 3 multiply \\nEnter 4 to divide \\n-->')\n",
    "if req == '1':\n",
    "    print(num1 + num2)\n",
    "elif req == \"2\":\n",
    "    print(num1 - num2)\n",
    "elif req == '3':\n",
    "    print(num1 * num2)\n",
    "elif req == '4':\n",
    "    print(num1/num2)\n",
    "else:\n",
    "    print('Invalid command')\n",
    "    \n",
    "    "
   ]
  },
  {
   "cell_type": "code",
   "execution_count": 1,
   "id": "0747c780",
   "metadata": {},
   "outputs": [
    {
     "name": "stdout",
     "output_type": "stream",
     "text": [
      "My name is samuel\n",
      " I am a good boy\n"
     ]
    }
   ],
   "source": [
    "print('My name is samuel\\n I am a good boy')"
   ]
  },
  {
   "cell_type": "code",
   "execution_count": 2,
   "id": "f6030b69",
   "metadata": {},
   "outputs": [
    {
     "name": "stdout",
     "output_type": "stream",
     "text": [
      "My name is samuel\n",
      "I am a good boy\n"
     ]
    }
   ],
   "source": [
    "print('My name is samuel\\nI am a good boy')"
   ]
  },
  {
   "cell_type": "code",
   "execution_count": 5,
   "id": "adc9010c",
   "metadata": {},
   "outputs": [
    {
     "name": "stdout",
     "output_type": "stream",
     "text": [
      "Enter number20\n",
      "Enter number10\n",
      "Enter 1 to add \n",
      " Enter 2 to subtract \n",
      "Enter 3 multiply \n",
      "Enter 4 to divide \n",
      "-->2\n",
      "10\n"
     ]
    }
   ],
   "source": [
    "num1 = int(input('Enter number'))\n",
    "num2 = int(input('Enter number'))\n",
    "\n",
    "req = input('Enter 1 to add \\n Enter 2 to subtract \\nEnter 3 multiply \\nEnter 4 to divide \\n-->')\n",
    "if req == '1':\n",
    "    print(num1 + num2)\n",
    "elif req == \"2\":\n",
    "    print(num1 - num2)\n",
    "elif req == '3':\n",
    "    print(num1 * num2)\n",
    "elif req == '4':\n",
    "    print(num1/num2)\n",
    "else:\n",
    "    print('Invalid command')"
   ]
  },
  {
   "cell_type": "code",
   "execution_count": 6,
   "id": "aaf196bc",
   "metadata": {},
   "outputs": [
    {
     "name": "stdout",
     "output_type": "stream",
     "text": [
      "Enter number20\n",
      "Enter number10\n",
      "Enter 1 to add \n",
      " Enter 2 to subtract \n",
      "Enter 3 multiply \n",
      "Enter 4 to divide \n",
      "-->3\n",
      "200\n"
     ]
    }
   ],
   "source": [
    "num1 = int(input('Enter number'))\n",
    "num2 = int(input('Enter number'))\n",
    "\n",
    "req = input('Enter 1 to add \\n Enter 2 to subtract \\nEnter 3 multiply \\nEnter 4 to divide \\n-->')\n",
    "if req == '1':\n",
    "    print(num1 + num2)\n",
    "elif req == \"2\":\n",
    "    print(num1 - num2)\n",
    "elif req == '3':\n",
    "    print(num1 * num2)\n",
    "elif req == '4':\n",
    "    print(num1/num2)\n",
    "else:\n",
    "    print('Invalid command')"
   ]
  },
  {
   "cell_type": "code",
   "execution_count": 7,
   "id": "161ee27b",
   "metadata": {},
   "outputs": [
    {
     "name": "stdout",
     "output_type": "stream",
     "text": [
      "Enter number20\n",
      "Enter number10\n",
      "Enter 1 to add \n",
      " Enter 2 to subtract \n",
      "Enter 3 multiply \n",
      "Enter 4 to divide \n",
      "-->4\n",
      "2.0\n"
     ]
    }
   ],
   "source": [
    "num1 = int(input('Enter number'))\n",
    "num2 = int(input('Enter number'))\n",
    "\n",
    "req = input('Enter 1 to add \\n Enter 2 to subtract \\nEnter 3 multiply \\nEnter 4 to divide \\n-->')\n",
    "if req == '1':\n",
    "    print(num1 + num2)\n",
    "elif req == \"2\":\n",
    "    print(num1 - num2)\n",
    "elif req == '3':\n",
    "    print(num1 * num2)\n",
    "elif req == '4':\n",
    "    print(num1/num2)\n",
    "else:\n",
    "    print('Invalid command')"
   ]
  },
  {
   "cell_type": "code",
   "execution_count": 8,
   "id": "5237f6f0",
   "metadata": {},
   "outputs": [
    {
     "name": "stdout",
     "output_type": "stream",
     "text": [
      "Enter number20\n",
      "Enter number10\n",
      "Enter 1 to add \n",
      " Enter 2 to subtract \n",
      "Enter 3 multiply \n",
      "Enter 4 to divide \n",
      "-->5\n",
      "Invalid command\n"
     ]
    }
   ],
   "source": [
    "num1 = int(input('Enter number'))\n",
    "num2 = int(input('Enter number'))\n",
    "\n",
    "req = input('Enter 1 to add \\n Enter 2 to subtract \\nEnter 3 multiply \\nEnter 4 to divide \\n-->')\n",
    "if req == '1':\n",
    "    print(num1 + num2)\n",
    "elif req == \"2\":\n",
    "    print(num1 - num2)\n",
    "elif req == '3':\n",
    "    print(num1 * num2)\n",
    "elif req == '4':\n",
    "    print(num1/num2)\n",
    "else:\n",
    "    print('Invalid command')"
   ]
  },
  {
   "cell_type": "code",
   "execution_count": null,
   "id": "a57da17d",
   "metadata": {},
   "outputs": [],
   "source": []
  }
 ],
 "metadata": {
  "kernelspec": {
   "display_name": "Python 3 (ipykernel)",
   "language": "python",
   "name": "python3"
  },
  "language_info": {
   "codemirror_mode": {
    "name": "ipython",
    "version": 3
   },
   "file_extension": ".py",
   "mimetype": "text/x-python",
   "name": "python",
   "nbconvert_exporter": "python",
   "pygments_lexer": "ipython3",
   "version": "3.11.5"
  }
 },
 "nbformat": 4,
 "nbformat_minor": 5
}
